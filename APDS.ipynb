{
    "nbformat_minor": 1, 
    "cells": [
        {
            "source": "# README\nThis notebooks primary purpose is to fulfill the requirements of the Applied Data Science Capstone course on Coursera", 
            "cell_type": "markdown", 
            "metadata": {
                "collapsed": true
            }
        }, 
        {
            "execution_count": 3, 
            "cell_type": "code", 
            "metadata": {}, 
            "outputs": [
                {
                    "output_type": "stream", 
                    "name": "stdout", 
                    "text": "Fetching package metadata .............\nSolving package specifications: .\n\nPackage plan for installation in environment /opt/conda/envs/DSX-Python35:\n\nThe following packages will be SUPERSEDED by a higher-priority channel:\n\n    xlrd: 1.1.0-py35h45a0a2a_1 --> 1.1.0-py35_1 anaconda\n\nxlrd-1.1.0-py3 100% |################################| Time: 0:00:00  44.16 MB/s\n"
                }
            ], 
            "source": "# I like to use Anaconda for package management\n!conda install -c anaconda xlrd --yes\n\nimport numpy as np\nimport pandas as pd"
        }, 
        {
            "execution_count": 4, 
            "cell_type": "code", 
            "metadata": {}, 
            "outputs": [
                {
                    "execution_count": 4, 
                    "metadata": {}, 
                    "data": {
                        "text/plain": "'Hello Capstone Project Course!'"
                    }, 
                    "output_type": "execute_result"
                }
            ], 
            "source": "'Hello Capstone Project Course!'"
        }, 
        {
            "execution_count": null, 
            "cell_type": "code", 
            "metadata": {}, 
            "outputs": [], 
            "source": ""
        }
    ], 
    "metadata": {
        "kernelspec": {
            "display_name": "Python 3.5", 
            "name": "python3", 
            "language": "python"
        }, 
        "language_info": {
            "mimetype": "text/x-python", 
            "nbconvert_exporter": "python", 
            "version": "3.5.5", 
            "name": "python", 
            "file_extension": ".py", 
            "pygments_lexer": "ipython3", 
            "codemirror_mode": {
                "version": 3, 
                "name": "ipython"
            }
        }
    }, 
    "nbformat": 4
}