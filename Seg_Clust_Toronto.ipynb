{
    "nbformat_minor": 1, 
    "cells": [
        {
            "source": "# Segment and Cluster Toronto Neighborhoods", 
            "cell_type": "markdown", 
            "metadata": {}
        }, 
        {
            "source": "!conda install -c anaconda xlrd --yes\n!conda install -c anaconda beautifulsoup4", 
            "cell_type": "code", 
            "metadata": {
                "collapsed": true
            }, 
            "outputs": [
                {
                    "output_type": "stream", 
                    "name": "stdout", 
                    "text": "Fetching package metadata .............\nSolving package specifications: .\n\nPackage plan for installation in environment /opt/conda/envs/DSX-Python35:\n\nThe following packages will be UPDATED:\n\n    beautifulsoup4: 4.6.0-py35h442a8c9_1 --> 4.6.3-py35_0 anaconda\n\nbeautifulsoup4 100% |################################| Time: 0:00:00  40.64 MB/s\n"
                }
            ], 
            "execution_count": 40
        }, 
        {
            "source": "from bs4 import BeautifulSoup\nimport requests\nimport pandas as pd", 
            "cell_type": "code", 
            "metadata": {}, 
            "outputs": [], 
            "execution_count": 41
        }, 
        {
            "source": "Fetch the page content from Wikipedia", 
            "cell_type": "markdown", 
            "metadata": {}
        }, 
        {
            "source": "page = requests.get('https://en.wikipedia.org/wiki/List_of_postal_codes_of_Canada:_M')\ncontents = page.content", 
            "cell_type": "code", 
            "metadata": {}, 
            "outputs": [], 
            "execution_count": 79
        }, 
        {
            "source": "NOTE:\n\nIn the code below I make the following assumptions:\n\n1. The table I'm looking has a specific class 'wikitable' and that there is only 1 table with that class. \n2. The data in the table is displayed in the order Postalcode, Borough, Neighborhood.\n3. All tables have a value (including \"Not assigned\")\n\nHaving inspected the HTML of the page I clarified that the above assumptions were true at the time of creation (March 16th, 2019)\n\n----", 
            "cell_type": "markdown", 
            "metadata": {}
        }, 
        {
            "source": "Use BeautifulSoup to help scrape data from the returned Wikipedia page content\n\nDocs: https://www.crummy.com/software/BeautifulSoup/", 
            "cell_type": "markdown", 
            "metadata": {}
        }, 
        {
            "source": "soup = BeautifulSoup(contents, 'html.parser')\n\nheaders = ['Postcode', 'Borough', 'Neighborhood']\n\ntable = soup.find('table',{'class':'wikitable'})\ntable_rows = table.find_all('tr')\ntable_rows = table_rows[1:]\n\ndf_rows = []\n\nfor row in table_rows:\n    items = row.find_all('td')\n    if items[1].text.strip() != 'Not assigned':\n        df_row =[]\n        df_row.append(items[0].text.strip())\n        df_row.append(items[1].text.strip())\n        df_row.append(items[2].text.strip())\n        df_rows.append(df_row)\n", 
            "cell_type": "code", 
            "metadata": {
                "scrolled": true
            }, 
            "outputs": [], 
            "execution_count": 85
        }, 
        {
            "source": "init_df = pd.DataFrame(data=df_rows, columns=headers)\ninit_df.head()", 
            "cell_type": "code", 
            "metadata": {}, 
            "outputs": [
                {
                    "output_type": "execute_result", 
                    "data": {
                        "text/html": "<div>\n<style scoped>\n    .dataframe tbody tr th:only-of-type {\n        vertical-align: middle;\n    }\n\n    .dataframe tbody tr th {\n        vertical-align: top;\n    }\n\n    .dataframe thead th {\n        text-align: right;\n    }\n</style>\n<table border=\"1\" class=\"dataframe\">\n  <thead>\n    <tr style=\"text-align: right;\">\n      <th></th>\n      <th>Postcode</th>\n      <th>Borough</th>\n      <th>Neighborhood</th>\n    </tr>\n  </thead>\n  <tbody>\n    <tr>\n      <th>0</th>\n      <td>M3A</td>\n      <td>North York</td>\n      <td>Parkwoods</td>\n    </tr>\n    <tr>\n      <th>1</th>\n      <td>M4A</td>\n      <td>North York</td>\n      <td>Victoria Village</td>\n    </tr>\n    <tr>\n      <th>2</th>\n      <td>M5A</td>\n      <td>Downtown Toronto</td>\n      <td>Harbourfront</td>\n    </tr>\n    <tr>\n      <th>3</th>\n      <td>M5A</td>\n      <td>Downtown Toronto</td>\n      <td>Regent Park</td>\n    </tr>\n    <tr>\n      <th>4</th>\n      <td>M6A</td>\n      <td>North York</td>\n      <td>Lawrence Heights</td>\n    </tr>\n  </tbody>\n</table>\n</div>", 
                        "text/plain": "  Postcode           Borough      Neighborhood\n0      M3A        North York         Parkwoods\n1      M4A        North York  Victoria Village\n2      M5A  Downtown Toronto      Harbourfront\n3      M5A  Downtown Toronto       Regent Park\n4      M6A        North York  Lawrence Heights"
                    }, 
                    "execution_count": 90, 
                    "metadata": {}
                }
            ], 
            "execution_count": 90
        }, 
        {
            "source": "Now that we have the initial dataframe we need to clean up the data by doing the following:\n\n1. Combine Neighborhoods with the same Postcode\n2. Set any Neighborhood with the value of \"Not assigned\" to be the same as the Borough", 
            "cell_type": "markdown", 
            "metadata": {}
        }, 
        {
            "source": "In the code below I loop over the rows of the dataframe and create a unique mapping of each postal code. During this process I concatenate the Neighborhoods so that each unique postal code row has a string containing all the Neighborhoods associated with it.", 
            "cell_type": "markdown", 
            "metadata": {}
        }, 
        {
            "source": "init_df.groupby(['Postcode']).head()\n\nc_data = {} # cleaned data mapping\n\nfor index, row in init_df.iterrows():\n    if row['Neighborhood'] == 'Not assigned':\n        row['Neighborhood'] = row['Borough']\n    if not row['Postcode'] in c_data:\n        c_data[row['Postcode']] = [row['Postcode'], row['Borough'], row['Neighborhood']]\n    elif not row['Neighborhood'] in c_data[row['Postcode']][2] :\n        c_data[row['Postcode']][2] += \", \" + row['Neighborhood']", 
            "cell_type": "code", 
            "metadata": {}, 
            "outputs": [], 
            "execution_count": 148
        }, 
        {
            "source": "clean_df = pd.DataFrame(list(c_data.values()), columns=headers)", 
            "cell_type": "code", 
            "metadata": {}, 
            "outputs": [], 
            "execution_count": 169
        }, 
        {
            "source": "clean_df.head(11)", 
            "cell_type": "code", 
            "metadata": {}, 
            "outputs": [
                {
                    "output_type": "execute_result", 
                    "data": {
                        "text/html": "<div>\n<style scoped>\n    .dataframe tbody tr th:only-of-type {\n        vertical-align: middle;\n    }\n\n    .dataframe tbody tr th {\n        vertical-align: top;\n    }\n\n    .dataframe thead th {\n        text-align: right;\n    }\n</style>\n<table border=\"1\" class=\"dataframe\">\n  <thead>\n    <tr style=\"text-align: right;\">\n      <th></th>\n      <th>Postcode</th>\n      <th>Borough</th>\n      <th>Neighborhood</th>\n    </tr>\n  </thead>\n  <tbody>\n    <tr>\n      <th>0</th>\n      <td>M1E</td>\n      <td>Scarborough</td>\n      <td>Guildwood, Morningside, West Hill</td>\n    </tr>\n    <tr>\n      <th>1</th>\n      <td>M2N</td>\n      <td>North York</td>\n      <td>Willowdale South</td>\n    </tr>\n    <tr>\n      <th>2</th>\n      <td>M7R</td>\n      <td>Mississauga</td>\n      <td>Canada Post Gateway Processing Centre</td>\n    </tr>\n    <tr>\n      <th>3</th>\n      <td>M8Y</td>\n      <td>Etobicoke</td>\n      <td>Humber Bay, King's Mill Park, Kingsway Park So...</td>\n    </tr>\n    <tr>\n      <th>4</th>\n      <td>M1G</td>\n      <td>Scarborough</td>\n      <td>Woburn</td>\n    </tr>\n    <tr>\n      <th>5</th>\n      <td>M4B</td>\n      <td>East York</td>\n      <td>Woodbine Gardens, Parkview Hill</td>\n    </tr>\n    <tr>\n      <th>6</th>\n      <td>M4K</td>\n      <td>East Toronto</td>\n      <td>The Danforth West, Riverdale</td>\n    </tr>\n    <tr>\n      <th>7</th>\n      <td>M1X</td>\n      <td>Scarborough</td>\n      <td>Upper Rouge</td>\n    </tr>\n    <tr>\n      <th>8</th>\n      <td>M5S</td>\n      <td>Downtown Toronto</td>\n      <td>Harbord, University of Toronto</td>\n    </tr>\n    <tr>\n      <th>9</th>\n      <td>M5E</td>\n      <td>Downtown Toronto</td>\n      <td>Berczy Park</td>\n    </tr>\n    <tr>\n      <th>10</th>\n      <td>M1J</td>\n      <td>Scarborough</td>\n      <td>Scarborough Village</td>\n    </tr>\n  </tbody>\n</table>\n</div>", 
                        "text/plain": "   Postcode           Borough  \\\n0       M1E       Scarborough   \n1       M2N        North York   \n2       M7R       Mississauga   \n3       M8Y         Etobicoke   \n4       M1G       Scarborough   \n5       M4B         East York   \n6       M4K      East Toronto   \n7       M1X       Scarborough   \n8       M5S  Downtown Toronto   \n9       M5E  Downtown Toronto   \n10      M1J       Scarborough   \n\n                                         Neighborhood  \n0                   Guildwood, Morningside, West Hill  \n1                                    Willowdale South  \n2               Canada Post Gateway Processing Centre  \n3   Humber Bay, King's Mill Park, Kingsway Park So...  \n4                                              Woburn  \n5                     Woodbine Gardens, Parkview Hill  \n6                        The Danforth West, Riverdale  \n7                                         Upper Rouge  \n8                      Harbord, University of Toronto  \n9                                         Berczy Park  \n10                                Scarborough Village  "
                    }, 
                    "execution_count": 170, 
                    "metadata": {}
                }
            ], 
            "execution_count": 170
        }, 
        {
            "source": "clean_df.shape", 
            "cell_type": "code", 
            "metadata": {}, 
            "outputs": [
                {
                    "output_type": "execute_result", 
                    "data": {
                        "text/plain": "(103, 3)"
                    }, 
                    "execution_count": 172, 
                    "metadata": {}
                }
            ], 
            "execution_count": 172
        }
    ], 
    "metadata": {
        "kernelspec": {
            "display_name": "Python 3.5", 
            "name": "python3", 
            "language": "python"
        }, 
        "language_info": {
            "mimetype": "text/x-python", 
            "nbconvert_exporter": "python", 
            "version": "3.5.5", 
            "name": "python", 
            "pygments_lexer": "ipython3", 
            "file_extension": ".py", 
            "codemirror_mode": {
                "version": 3, 
                "name": "ipython"
            }
        }
    }, 
    "nbformat": 4
}